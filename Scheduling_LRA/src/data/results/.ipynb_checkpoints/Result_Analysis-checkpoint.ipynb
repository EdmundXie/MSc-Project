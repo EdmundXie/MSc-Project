{
 "cells": [
  {
   "cell_type": "code",
   "execution_count": 2,
   "id": "activated-crack",
   "metadata": {
    "pycharm": {
     "name": "#%%\n"
    }
   },
   "outputs": [],
   "source": [
    "import numpy as np\n",
    "import pandas as pd\n",
    "import matplotlib.pyplot as plt\n",
    "import random"
   ]
  },
  {
   "cell_type": "code",
   "execution_count": 3,
   "id": "driving-apache",
   "metadata": {
    "pycharm": {
     "name": "#%%\n"
    }
   },
   "outputs": [
    {
     "data": {
      "text/html": [
       "<div>\n",
       "<style scoped>\n",
       "    .dataframe tbody tr th:only-of-type {\n",
       "        vertical-align: middle;\n",
       "    }\n",
       "\n",
       "    .dataframe tbody tr th {\n",
       "        vertical-align: top;\n",
       "    }\n",
       "\n",
       "    .dataframe thead th {\n",
       "        text-align: right;\n",
       "    }\n",
       "</style>\n",
       "<table border=\"1\" class=\"dataframe\">\n",
       "  <thead>\n",
       "    <tr style=\"text-align: right;\">\n",
       "      <th></th>\n",
       "      <th>instance_name</th>\n",
       "      <th>LB</th>\n",
       "      <th>best_sol</th>\n",
       "      <th>best_algo</th>\n",
       "      <th>FF</th>\n",
       "      <th>FFD-Avg</th>\n",
       "      <th>FFD-AvgExpo</th>\n",
       "      <th>NCD-DotProduct</th>\n",
       "      <th>NCD-L2Norm</th>\n",
       "      <th>FF_time</th>\n",
       "      <th>FFD-Avg_time</th>\n",
       "      <th>FFD-AvgExpo_time</th>\n",
       "      <th>NCD-DotProduct_time</th>\n",
       "      <th>NCD-L2Norm_time</th>\n",
       "    </tr>\n",
       "  </thead>\n",
       "  <tbody>\n",
       "    <tr>\n",
       "      <th>0</th>\n",
       "      <td>processed_data</td>\n",
       "      <td>10048</td>\n",
       "      <td>11016</td>\n",
       "      <td>FF</td>\n",
       "      <td>11016</td>\n",
       "      <td>11127</td>\n",
       "      <td>11138</td>\n",
       "      <td>12503</td>\n",
       "      <td>12548</td>\n",
       "      <td>425</td>\n",
       "      <td>527</td>\n",
       "      <td>584</td>\n",
       "      <td>109727</td>\n",
       "      <td>206019</td>\n",
       "    </tr>\n",
       "  </tbody>\n",
       "</table>\n",
       "</div>"
      ],
      "text/plain": [
       "    instance_name     LB  best_sol best_algo     FF  FFD-Avg  FFD-AvgExpo  \\\n",
       "0  processed_data  10048     11016        FF  11016    11127        11138   \n",
       "\n",
       "   NCD-DotProduct  NCD-L2Norm  FF_time  FFD-Avg_time  FFD-AvgExpo_time  \\\n",
       "0           12503       12548      425           527               584   \n",
       "\n",
       "   NCD-DotProduct_time  NCD-L2Norm_time  \n",
       "0               109727           206019  "
      ]
     },
     "execution_count": 3,
     "metadata": {},
     "output_type": "execute_result"
    }
   ],
   "source": [
    "result = pd.read_csv(\"result.csv\")\n",
    "result"
   ]
  },
  {
   "cell_type": "code",
   "execution_count": 5,
   "id": "actual-representative",
   "metadata": {
    "pycharm": {
     "name": "#%%\n"
    }
   },
   "outputs": [
    {
     "data": {
      "image/png": "[encoded data removed]",
      "text/plain": [
       "<Figure size 576x288 with 1 Axes>"
      ]
     },
     "metadata": {
      "needs_background": "light"
     },
     "output_type": "display_data"
    }
   ],
   "source": [
    "column_name = ['FF','FFD-Avg','FFD-AvgExpo','NCD-DotProduct','NCD-L2Norm']\n",
    "nodes_used = result[column_name].loc[0]\n",
    "fig = plt.figure()\n",
    "color = ['#191970','#90EE90','#6495ED','#548B54','#B0E0E6']\n",
    "nodes_used.plot(kind='bar',figsize=(8,4))\n",
    "plt.xticks(rotation=360)\n",
    "plt.xlabel('Algorithms')\n",
    "plt.ylabel('The number of nodes used')\n",
    "plt.show()"
   ]
  },
  {
   "cell_type": "code",
   "execution_count": 6,
   "id": "peaceful-response",
   "metadata": {
    "pycharm": {
     "name": "#%%\n"
    }
   },
   "outputs": [
    {
     "data": {
      "image/png": "[encoded data removed]",
      "text/plain": [
       "<Figure size 576x288 with 1 Axes>"
      ]
     },
     "metadata": {
      "needs_background": "light"
     },
     "output_type": "display_data"
    }
   ],
   "source": [
    "column_time = []\n",
    "for i in column_name:\n",
    "    column_time.append(i + '_time')\n",
    "time_consumed = result[column_time].loc[0]\n",
    "time_consumed.plot(kind='bar',figsize=(8,4))\n",
    "plt.xticks(range(5),column_name,rotation=360)\n",
    "plt.xlabel('Algorithms')\n",
    "plt.ylabel('Time consumed(ms)')\n",
    "plt.show()"
   ]
  },
  {
   "cell_type": "code",
   "execution_count": 65,
   "id": "hispanic-simpson",
   "metadata": {
    "pycharm": {
     "name": "#%%\n"
    }
   },
   "outputs": [
    {
     "data": {
      "text/html": [
       "<div>\n",
       "<style scoped>\n",
       "    .dataframe tbody tr th:only-of-type {\n",
       "        vertical-align: middle;\n",
       "    }\n",
       "\n",
       "    .dataframe tbody tr th {\n",
       "        vertical-align: top;\n",
       "    }\n",
       "\n",
       "    .dataframe thead th {\n",
       "        text-align: right;\n",
       "    }\n",
       "</style>\n",
       "<table border=\"1\" class=\"dataframe\">\n",
       "  <thead>\n",
       "    <tr style=\"text-align: right;\">\n",
       "      <th></th>\n",
       "      <th>FF</th>\n",
       "      <th>FFD-Avg</th>\n",
       "      <th>FFD-AvgExpo</th>\n",
       "      <th>NCD-DotProduct</th>\n",
       "      <th>NCD-L2Norm</th>\n",
       "    </tr>\n",
       "  </thead>\n",
       "  <tbody>\n",
       "    <tr>\n",
       "      <th>0</th>\n",
       "      <td>0.096338</td>\n",
       "      <td>0.107385</td>\n",
       "      <td>0.108479</td>\n",
       "      <td>0.244327</td>\n",
       "      <td>0.248806</td>\n",
       "    </tr>\n",
       "  </tbody>\n",
       "</table>\n",
       "</div>"
      ],
      "text/plain": [
       "         FF   FFD-Avg  FFD-AvgExpo  NCD-DotProduct  NCD-L2Norm\n",
       "0  0.096338  0.107385     0.108479        0.244327    0.248806"
      ]
     },
     "execution_count": 65,
     "metadata": {},
     "output_type": "execute_result"
    }
   ],
   "source": [
    "lb = result['LB'].loc[0]\n",
    "result[column_name] = result[column_name].apply(lambda x:int(x)/lb-1)\n",
    "result[column_name]"
   ]
  },
  {
   "cell_type": "code",
   "execution_count": 8,
   "id": "viral-cable",
   "metadata": {
    "pycharm": {
     "name": "#%%\n"
    }
   },
   "outputs": [
    {
     "data": {
      "image/png": "[encoded data removed]",
      "text/plain": [
       "<Figure size 720x360 with 1 Axes>"
      ]
     },
     "metadata": {
      "needs_background": "light"
     },
     "output_type": "display_data"
    }
   ],
   "source": [
    "x = result[column_time].loc[0].to_list()\n",
    "y = result[column_name].loc[0].to_list()\n",
    "markers = ['.', 'o', '+', '^', '*']\n",
    "\n",
    "fig = plt.figure(figsize=(10,5))\n",
    "name_num = len(column_name)\n",
    "for i in range(name_num):\n",
    "    plt.plot(x[i], y[i], marker=markers[i])\n",
    "plt.legend(column_name)\n",
    "plt.xlabel('Time consumed(ms)')\n",
    "plt.ylabel('Deviation(%)')\n",
    "plt.show()"
   ]
  }
 ],
 "metadata": {
  "kernelspec": {
   "display_name": "Python 3",
   "language": "python",
   "name": "python3"
  },
  "language_info": {
   "codemirror_mode": {
    "name": "ipython",
    "version": 3
   },
   "file_extension": ".py",
   "mimetype": "text/x-python",
   "name": "python",
   "nbconvert_exporter": "python",
   "pygments_lexer": "ipython3",
   "version": "3.9.2"
  }
 },
 "nbformat": 4,
 "nbformat_minor": 5
}
